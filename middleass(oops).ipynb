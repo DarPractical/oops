{
 "cells": [
  {
   "cell_type": "markdown",
   "id": "d55fee09-bca9-4626-a1a1-caf5ea29fbcc",
   "metadata": {},
   "source": [
    "# Q1, Create a vehicle class with an init method having instance variables as name_of_vehicle, max_speed  and average_of_vehicle."
   ]
  },
  {
   "cell_type": "code",
   "execution_count": 2,
   "id": "715bbdad-327c-49a9-b9a6-16e0682de101",
   "metadata": {},
   "outputs": [
    {
     "name": "stdout",
     "output_type": "stream",
     "text": [
      "ROLLSROYCE\n",
      "200\n",
      "100\n"
     ]
    }
   ],
   "source": [
    "class vehical:\n",
    "    def __init__(self) -> None:\n",
    "        self.name_of_vehical=\"ROLLSROYCE\"\n",
    "        self.max_speed=200\n",
    "        self.average_of_vehical=100\n",
    "        \n",
    "    def display(self):\n",
    "        print(self.name_of_vehical)\n",
    "        print(self.max_speed)\n",
    "        print(self.average_of_vehical)\n",
    "        \n",
    "\n",
    "\n",
    "obj1=vehical()\n",
    "obj1.display()\n"
   ]
  },
  {
   "cell_type": "markdown",
   "id": "51ee97df-7b74-47e9-ac99-919f69c601a3",
   "metadata": {},
   "source": [
    "# Q2. Create a child class car from the vehicle class created in Que 1, which will inherit the vehicle class. Create a method named seating_capacity which takes capacity as an argument and returns the name of the vehicle and its seating capacity."
   ]
  },
  {
   "cell_type": "code",
   "execution_count": 8,
   "id": "e758175b-baa3-49c9-8cc7-d582c8e7be73",
   "metadata": {},
   "outputs": [
    {
     "name": "stdout",
     "output_type": "stream",
     "text": [
      "NAME OF THE VEHICAL ROLLSROYCE AND SEATING CAPCITY IS 12\n"
     ]
    }
   ],
   "source": [
    "class vehical:\n",
    "    def __init__(self) -> None:\n",
    "        self.name_of_vehical=\"ROLLSROYCE\"\n",
    "        self.max_speed=200\n",
    "        self.average_of_vehical=100\n",
    "    \n",
    "class car(vehical):\n",
    "    def seating_capacity(self,capacity):\n",
    "        self.seat=capacity\n",
    "        return f\"NAME OF THE VEHICAL {self.name_of_vehical} AND SEATING CAPCITY IS {self.seat}\"\n",
    "    \n",
    "    \n",
    "obj =car()\n",
    "output=obj.seating_capacity(\"12\")\n",
    "print(output)"
   ]
  },
  {
   "cell_type": "markdown",
   "id": "cddcf6f9-c7a1-4b43-99d5-be9337857266",
   "metadata": {},
   "source": [
    "# Q3. What is multiple inheritance? Write a python code to demonstrate multiple inheritance."
   ]
  },
  {
   "cell_type": "markdown",
   "id": "1e68f413-1ff7-4832-badd-9c7bab4d7109",
   "metadata": {},
   "source": [
    "### multiple inheritance is a feature in object-oriented programming languages that allows a class to inherit from more than one base class. This means that a subclass can inherit attributes and methods from multiple parent classes."
   ]
  },
  {
   "cell_type": "code",
   "execution_count": 14,
   "id": "0bacb7b7-e257-4a8a-ac48-a52a63e80f64",
   "metadata": {},
   "outputs": [
    {
     "name": "stdout",
     "output_type": "stream",
     "text": [
      "Sparrow is eating.\n",
      "Sparrow is sleeping.\n",
      "Sparrow is flying.\n"
     ]
    }
   ],
   "source": [
    "class father:\n",
    "    \n",
    "    def __init__(self):\n",
    "        \n",
    "        self.behavior=\"Slient\"\n",
    "        self.height=\"Tall Guy\"\n",
    "        self.face=\"Handsome\"\n",
    "        \n",
    "        \n",
    "        \n",
    "        \n",
    "class mother:\n",
    "    \n",
    "    def __init__(self):\n",
    "        \n",
    "        self.nature=\"Helping and Daring\"\n",
    "        self.habits=\"Hypersound lover\"\n",
    "        self.foodie=\"More like sweets and Non veg too\"\n",
    "    \n",
    "class child(mother,father):\n",
    "    \n",
    "    def __init__(self):\n",
    "        \n",
    "        self.intersts=\"TECHNOLOGY \"\n",
    "        self.education=\"DATA SCINTIST IN IITM\"\n",
    "        \n",
    "        \n",
    "    def display(self):\n",
    "        \n",
    "        print(self.behavior)\n",
    "        print(self.height)\n",
    "        print(self.foodie)\n",
    "        print(self.habits)\n",
    "        print(self.nature)\n",
    "\n",
    "        \n",
    "obj=child ()\n",
    "obj.display()\n",
    "        "
   ]
  },
  {
   "cell_type": "markdown",
   "id": "21ebdf74-2e0c-4b9a-93cc-b89ec8fa7153",
   "metadata": {},
   "source": [
    "# Q4. What are getter and setter in python? Create a class and create a getter and a setter method in this class."
   ]
  },
  {
   "cell_type": "code",
   "execution_count": null,
   "id": "81796c12-7ae5-47c5-b717-0c36ac9f6803",
   "metadata": {},
   "outputs": [],
   "source": [
    " # Python, getters and setters are methods used to access and modify the attributes (properties) of a class.\n",
    " # They provide an interface to retrieve and update the values of private attributes, encapsulating them within class methods. \n",
    " # This allows for better control over the attribute's accessibility and enables data validation or additional logic to be applied when getting or setting the attribute."
   ]
  },
  {
   "cell_type": "code",
   "execution_count": 16,
   "id": "5402ff38-244f-4f26-87c3-57bdd76e07c9",
   "metadata": {},
   "outputs": [
    {
     "name": "stdout",
     "output_type": "stream",
     "text": [
      "darshan\n",
      "alkahsir\n"
     ]
    }
   ],
   "source": [
    "class Person:\n",
    "    def __init__(self, name):\n",
    "        self._name = name   # Private attribute with a single underscore prefix\n",
    "    \n",
    "    def get_name(self):\n",
    "        return self._name   # Getter method to retrieve the attribute value\n",
    "    \n",
    "    def set_name(self, new_name):\n",
    "        self._name = new_name   # Setter method to update the attribute value\n",
    "\n",
    "\n",
    "# Creating an instance of the Person class\n",
    "person = Person(\"darshan\")\n",
    "\n",
    "# Using the getter method to retrieve the attribute value\n",
    "print(person.get_name())   # Output: darshan\n",
    "\n",
    "# Using the setter method to update the attribute value\n",
    "person.set_name(\"alkahsir\")\n",
    "print(person.get_name())   # Output: alkahsir\n"
   ]
  },
  {
   "cell_type": "markdown",
   "id": "561be9ae-14bf-4f54-8843-8f13f09a6bf8",
   "metadata": {},
   "source": [
    "# Q5.What is method overriding in python? Write a python code to demonstrate method overriding."
   ]
  },
  {
   "cell_type": "markdown",
   "id": "17303a9d-51f5-41b4-876f-ffaee9c28f99",
   "metadata": {},
   "source": [
    "#### Method overriding is a concept in object-oriented programming where a subclass provides its own implementation of a method that is already defined in its parent class. When a method in the subclass has the same name and signature as a method in the parent class, the subclass's method overrides the implementation of the parent class."
   ]
  },
  {
   "cell_type": "code",
   "execution_count": null,
   "id": "55b97c49-3c34-453d-9e80-769bb7fce0e5",
   "metadata": {},
   "outputs": [],
   "source": [
    "class school:\n",
    "    def __init__(self,schl):\n",
    "        self.schl=\"SHREE SHARADHA VIDYA PEETA\"\n",
    "        return self.schl\n",
    "    \n",
    "class school:\n",
    "    def __init__(self,schl):\n",
    "        self.schl=\"SHREE SHARADHA VIDYA PEETA\"\n",
    "        return self.schl\n",
    "    \n",
    "    \n"
   ]
  }
 ],
 "metadata": {
  "kernelspec": {
   "display_name": "Python 3 (ipykernel)",
   "language": "python",
   "name": "python3"
  },
  "language_info": {
   "codemirror_mode": {
    "name": "ipython",
    "version": 3
   },
   "file_extension": ".py",
   "mimetype": "text/x-python",
   "name": "python",
   "nbconvert_exporter": "python",
   "pygments_lexer": "ipython3",
   "version": "3.10.8"
  }
 },
 "nbformat": 4,
 "nbformat_minor": 5
}
